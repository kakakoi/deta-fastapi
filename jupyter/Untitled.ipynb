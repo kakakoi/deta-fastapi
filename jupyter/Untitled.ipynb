{
 "cells": [
  {
   "cell_type": "code",
   "execution_count": 1,
   "id": "9949d8f7-f9d1-4f37-acea-893d69683bb5",
   "metadata": {},
   "outputs": [],
   "source": [
    "import requests\n",
    "import pandas as pd\n",
    "from pandas import json_normalize\n",
    "import os"
   ]
  },
  {
   "cell_type": "code",
   "execution_count": 3,
   "id": "4e5b2337-2a23-4e24-b0b0-d915964784c0",
   "metadata": {},
   "outputs": [
    {
     "data": {
      "text/plain": [
       "'1074552583394515935'"
      ]
     },
     "execution_count": 3,
     "metadata": {},
     "output_type": "execute_result"
    }
   ],
   "source": [
    "url = 'https://app.rakuten.co.jp/services/api/IchibaItem/Ranking/20170628'\n",
    "id= '1074552583394515935'\n",
    "\n",
    "os.environ.get('RAKUTEN_API_ID')"
   ]
  },
  {
   "cell_type": "code",
   "execution_count": 92,
   "id": "1a9ce7ad-8db6-49ba-b6bd-afce9b2f009f",
   "metadata": {},
   "outputs": [],
   "source": [
    "params = {\n",
    "    'format': 'json',\n",
    "    'applicationId': id\n",
    "}"
   ]
  },
  {
   "cell_type": "code",
   "execution_count": 112,
   "id": "51917dce-ba83-4f28-a306-a5e5dac37687",
   "metadata": {},
   "outputs": [],
   "source": [
    "res = requests.get(url, params)"
   ]
  },
  {
   "cell_type": "code",
   "execution_count": 118,
   "id": "88d8a029-54fc-410f-b6c7-76ae024886df",
   "metadata": {},
   "outputs": [],
   "source": [
    "result = res.json()\n",
    "#result"
   ]
  },
  {
   "cell_type": "code",
   "execution_count": 129,
   "id": "72c0de88-7d9f-4f23-a196-3dd3f4f2e653",
   "metadata": {
    "tags": []
   },
   "outputs": [],
   "source": [
    "df = json_normalize(result['Items']).loc[:,['Item.affiliateRate','Item.catchcopy','Item.shopName','Item.itemUrl','Item.mediumImageUrls']]"
   ]
  },
  {
   "cell_type": "code",
   "execution_count": 126,
   "id": "425e84ce-5734-4d5e-a89e-76121315a2f7",
   "metadata": {},
   "outputs": [
    {
     "data": {
      "text/plain": [
       "[{'Item.affiliateRate': '4.0',\n",
       "  'Item.catchcopy': '迷ったらコレ！お刺身でも食べられる高鮮度！特殊カット済みで食べやすい♪【ギフト】【カニ】【かに】【蟹】',\n",
       "  'Item.shopName': '越前かに職人甲羅組（DENSHOKU）',\n",
       "  'Item.itemUrl': 'https://item.rakuten.co.jp/kouragumi/100005/',\n",
       "  'Item.mediumImageUrls': [{'imageUrl': 'https://thumbnail.image.rakuten.co.jp/@0_mall/kouragumi/cabinet/07495043/07842125/imgrc0096614456.jpg?_ex=128x128'},\n",
       "   {'imageUrl': 'https://thumbnail.image.rakuten.co.jp/@0_mall/kouragumi/cabinet/07495043/07842125/imgrc0096668422.jpg?_ex=128x128'},\n",
       "   {'imageUrl': 'https://thumbnail.image.rakuten.co.jp/@0_mall/kouragumi/cabinet/05619584/imgrc0076352352.jpg?_ex=128x128'}]},\n",
       " {'Item.affiliateRate': '5.0',\n",
       "  'Item.catchcopy': '息がしやすい口紅が付きにくい 呼吸しやすいクリーンマスク 密着 送料無料',\n",
       "  'Item.shopName': 'CICI BELLA',\n",
       "  'Item.itemUrl': 'https://item.rakuten.co.jp/cicib/mskkf20-1/',\n",
       "  'Item.mediumImageUrls': [{'imageUrl': 'https://thumbnail.image.rakuten.co.jp/@0_mall/cicib/cabinet/08458134/08458135/20.jpg?_ex=128x128'},\n",
       "   {'imageUrl': 'https://thumbnail.image.rakuten.co.jp/@0_mall/cicib/cabinet/08324956/08366014/1.jpg?_ex=128x128'},\n",
       "   {'imageUrl': 'https://thumbnail.image.rakuten.co.jp/@0_mall/cicib/cabinet/08324956/08366014/3.jpg?_ex=128x128'}]},\n",
       " {'Item.affiliateRate': '4.0',\n",
       "  'Item.catchcopy': '本日ポイント10倍確定！年末早割クーポン終了前に！総合ランキング1位(2020年12月25日更新分等) 週間も1位★グルメ大賞カニ部門6度受賞！年間10万箱以上⇒累計180万箱＆75億円突破',\n",
       "  'Item.shopName': '越前かに問屋「ますよね」',\n",
       "  'Item.itemUrl': 'https://item.rakuten.co.jp/masuyone/130007/',\n",
       "  'Item.mediumImageUrls': [{'imageUrl': 'https://thumbnail.image.rakuten.co.jp/@0_mall/masuyone/cabinet/goods/08472711/130007_s.jpg?_ex=128x128'},\n",
       "   {'imageUrl': 'https://thumbnail.image.rakuten.co.jp/@0_mall/masuyone/cabinet/goods/08472711/130007_16s.jpg?_ex=128x128'},\n",
       "   {'imageUrl': 'https://thumbnail.image.rakuten.co.jp/@0_mall/masuyone/cabinet/goods/08472711/130007_k_01.jpg?_ex=128x128'}]},\n",
       " {'Item.affiliateRate': '5.0',\n",
       "  'Item.catchcopy': 'マスク 不織布マスク カラーマスク やわらかマスク 血色マスク',\n",
       "  'Item.shopName': 'cicibella sports',\n",
       "  'Item.itemUrl': 'https://item.rakuten.co.jp/cicibella-sports/msk50-5/',\n",
       "  'Item.mediumImageUrls': [{'imageUrl': 'https://thumbnail.image.rakuten.co.jp/@0_mall/cicibella-sports/cabinet/08582597/msk50-5.jpg?_ex=128x128'},\n",
       "   {'imageUrl': 'https://thumbnail.image.rakuten.co.jp/@0_mall/cicibella-sports/cabinet/08596359/1.jpg?_ex=128x128'},\n",
       "   {'imageUrl': 'https://thumbnail.image.rakuten.co.jp/@0_mall/cicibella-sports/cabinet/08596359/3.jpg?_ex=128x128'}]},\n",
       " {'Item.affiliateRate': '4.0',\n",
       "  'Item.catchcopy': '【女性誌掲載多数】化粧品 プラセンタ 日本製 マスク 30枚入 シートマスク',\n",
       "  'Item.shopName': 'クオリティファースト\\u3000楽天市場店',\n",
       "  'Item.itemUrl': 'https://item.rakuten.co.jp/q1st/10000002/',\n",
       "  'Item.mediumImageUrls': [{'imageUrl': 'https://thumbnail.image.rakuten.co.jp/@0_mall/q1st/cabinet/07300583/211026_q1st_kago5.jpg?_ex=128x128'},\n",
       "   {'imageUrl': 'https://thumbnail.image.rakuten.co.jp/@0_mall/q1st/cabinet/07300583/imgrc0088859131.jpg?_ex=128x128'},\n",
       "   {'imageUrl': 'https://thumbnail.image.rakuten.co.jp/@0_mall/q1st/cabinet/07300583/imgrc0088859206.jpg?_ex=128x128'}]},\n",
       " {'Item.affiliateRate': '4.0',\n",
       "  'Item.catchcopy': 'オムツ 紙おむつ 赤ちゃん まとめ買い 通気性 / メリーズ / メリーズ おむつ パンツ梱販売用S M L ビッグ ビッグより大 梱販売用',\n",
       "  'Item.shopName': 'NetBabyWorld（ネットベビー）',\n",
       "  'Item.itemUrl': 'https://item.rakuten.co.jp/netbaby/a62173xxx/',\n",
       "  'Item.mediumImageUrls': [{'imageUrl': 'https://thumbnail.image.rakuten.co.jp/@0_mall/netbaby/cabinet/077/402077.jpg?_ex=128x128'},\n",
       "   {'imageUrl': 'https://thumbnail.image.rakuten.co.jp/@0_mall/netbaby/cabinet/077/402077-2.jpg?_ex=128x128'},\n",
       "   {'imageUrl': 'https://thumbnail.image.rakuten.co.jp/@0_mall/netbaby/cabinet/077/402077-3.jpg?_ex=128x128'}]},\n",
       " {'Item.affiliateRate': '4.0',\n",
       "  'Item.catchcopy': '【2021楽天上半期ベストコスメ受賞】【2021＠コスメ口コミランキング1位】',\n",
       "  'Item.shopName': 'VTcosmetic楽天市場店',\n",
       "  'Item.itemUrl': 'https://item.rakuten.co.jp/vtcosmetic-official/p00000dq/',\n",
       "  'Item.mediumImageUrls': [{'imageUrl': 'https://thumbnail.image.rakuten.co.jp/@0_mall/vtcosmetic-official/cabinet/p00000dq_1/800-20-0-1.jpg?_ex=128x128'},\n",
       "   {'imageUrl': 'https://thumbnail.image.rakuten.co.jp/@0_mall/vtcosmetic-official/cabinet/p00000dq/800-01.jpg?_ex=128x128'},\n",
       "   {'imageUrl': 'https://thumbnail.image.rakuten.co.jp/@0_mall/vtcosmetic-official/cabinet/p00000dq/800-03.jpg?_ex=128x128'}]},\n",
       " {'Item.affiliateRate': '3.0',\n",
       "  'Item.catchcopy': '12月1日より2,200円に価格改定',\n",
       "  'Item.shopName': 'scope version.R',\n",
       "  'Item.itemUrl': 'https://item.rakuten.co.jp/scope/iitteep15/',\n",
       "  'Item.mediumImageUrls': [{'imageUrl': 'https://thumbnail.image.rakuten.co.jp/@0_mall/scope/cabinet/iittala/iia14b11_a_im01.jpg?_ex=128x128'},\n",
       "   {'imageUrl': 'https://thumbnail.image.rakuten.co.jp/@0_mall/scope/cabinet/iittala/iia14b11_a_im03.jpg?_ex=128x128'},\n",
       "   {'imageUrl': 'https://thumbnail.image.rakuten.co.jp/@0_mall/scope/cabinet/iittala/teep15_a_im1.jpg?_ex=128x128'}]},\n",
       " {'Item.affiliateRate': '4.0',\n",
       "  'Item.catchcopy': '強い炭酸 蔵王の水を使用 炭酸飲料 ペットボトル スパークリング ソーダ 割り材 ストレート レモンフレーバー 無糖 割り材',\n",
       "  'Item.shopName': 'ライフドリンクカンパニー',\n",
       "  'Item.itemUrl': 'https://item.rakuten.co.jp/lifedrinkcompany/zaosoda-500/',\n",
       "  'Item.mediumImageUrls': [{'imageUrl': 'https://thumbnail.image.rakuten.co.jp/@0_mall/lifedrinkcompany/cabinet/08451052/imgrc0106238156.jpg?_ex=128x128'},\n",
       "   {'imageUrl': 'https://thumbnail.image.rakuten.co.jp/@0_mall/lifedrinkcompany/cabinet/08451002/imgrc0101409220.jpg?_ex=128x128'},\n",
       "   {'imageUrl': 'https://thumbnail.image.rakuten.co.jp/@0_mall/lifedrinkcompany/cabinet/08451002/imgrc0106401433.jpg?_ex=128x128'}]},\n",
       " {'Item.affiliateRate': '4.0',\n",
       "  'Item.catchcopy': 'パンパース / パンパース オムツ パンツ さらさらケア',\n",
       "  'Item.shopName': 'NetBabyWorld（ネットベビー）',\n",
       "  'Item.itemUrl': 'https://item.rakuten.co.jp/netbaby/404313/',\n",
       "  'Item.mediumImageUrls': [{'imageUrl': 'https://thumbnail.image.rakuten.co.jp/@0_mall/netbaby/cabinet/313/404313.jpg?_ex=128x128'},\n",
       "   {'imageUrl': 'https://thumbnail.image.rakuten.co.jp/@0_mall/netbaby/cabinet/313/404313-2.jpg?_ex=128x128'},\n",
       "   {'imageUrl': 'https://thumbnail.image.rakuten.co.jp/@0_mall/netbaby/cabinet/313/404313-3.jpg?_ex=128x128'}]},\n",
       " {'Item.affiliateRate': '4.0',\n",
       "  'Item.catchcopy': 'グーン(GOO.N) / グーン まっさらさら通気 パンツ',\n",
       "  'Item.shopName': 'NetBabyWorld（ネットベビー）',\n",
       "  'Item.itemUrl': 'https://item.rakuten.co.jp/netbaby/404196/',\n",
       "  'Item.mediumImageUrls': [{'imageUrl': 'https://thumbnail.image.rakuten.co.jp/@0_mall/netbaby/cabinet/196/404196.jpg?_ex=128x128'},\n",
       "   {'imageUrl': 'https://thumbnail.image.rakuten.co.jp/@0_mall/netbaby/cabinet/196/404196-2.jpg?_ex=128x128'},\n",
       "   {'imageUrl': 'https://thumbnail.image.rakuten.co.jp/@0_mall/netbaby/cabinet/196/404196-3.jpg?_ex=128x128'}]},\n",
       " {'Item.affiliateRate': '4.0',\n",
       "  'Item.catchcopy': '松屋の牛めし お取り寄せ 牛丼 肉 業務用 時短 冷凍食品 送料無料 惣菜 お弁当 絶品 お取り寄せグルメ お試し 松屋 冷凍 冷凍食品業務用 一人 暮らし おかず 仕送り 食事 レンチンご飯',\n",
       "  'Item.shopName': '松屋フーズ',\n",
       "  'Item.itemUrl': 'https://item.rakuten.co.jp/matsuya/us30-3/',\n",
       "  'Item.mediumImageUrls': [{'imageUrl': 'https://thumbnail.image.rakuten.co.jp/@0_mall/matsuya/cabinet/wakama/08508445/thum_us30_1st.jpg?_ex=128x128'},\n",
       "   {'imageUrl': 'https://thumbnail.image.rakuten.co.jp/@0_mall/matsuya/cabinet/wakama/08508445/imgrc0085170782.jpg?_ex=128x128'},\n",
       "   {'imageUrl': 'https://thumbnail.image.rakuten.co.jp/@0_mall/matsuya/cabinet/ef/06596614/premium1.jpg?_ex=128x128'}]},\n",
       " {'Item.affiliateRate': '2.0',\n",
       "  'Item.catchcopy': '【楽天ブックスならいつでも送料無料】',\n",
       "  'Item.shopName': '楽天ブックス',\n",
       "  'Item.itemUrl': 'https://item.rakuten.co.jp/book/16949739/',\n",
       "  'Item.mediumImageUrls': [{'imageUrl': 'https://thumbnail.image.rakuten.co.jp/@0_mall/book/cabinet/3403/2100012803403.gif?_ex=128x128'}]},\n",
       " {'Item.affiliateRate': '2.0',\n",
       "  'Item.catchcopy': '【楽天ブックスならいつでも送料無料】【楽天あんしん延長保証対象商品】',\n",
       "  'Item.shopName': '楽天ブックス',\n",
       "  'Item.itemUrl': 'https://item.rakuten.co.jp/book/16033028/',\n",
       "  'Item.mediumImageUrls': [{'imageUrl': 'https://thumbnail.image.rakuten.co.jp/@0_mall/book/cabinet/2912/4902370542912.jpg?_ex=128x128'}]},\n",
       " {'Item.affiliateRate': '4.0',\n",
       "  'Item.catchcopy': '【出荷日より翌日〜3日前後でお届け】 送料無料はそのままで配送が早くなりました! 2020楽天年間ランキング＆グルメ大賞ダブル受賞 厳選4種ナッツを配合 保存に便利なチャック付き袋',\n",
       "  'Item.shopName': '美味しさは元気の源 【自然の館】',\n",
       "  'Item.itemUrl': 'https://item.rakuten.co.jp/shizennoyakata/mixnutsofaphantom-spsale/',\n",
       "  'Item.mediumImageUrls': [{'imageUrl': 'https://thumbnail.image.rakuten.co.jp/@0_mall/shizennoyakata/cabinet/item_img/item1/lucky850_sg1_a.jpg?_ex=128x128'},\n",
       "   {'imageUrl': 'https://thumbnail.image.rakuten.co.jp/@0_mall/shizennoyakata/cabinet/item_img/syouhingazou2/sg-nekoposu.jpg?_ex=128x128'},\n",
       "   {'imageUrl': 'https://thumbnail.image.rakuten.co.jp/@0_mall/shizennoyakata/cabinet/item_img/saleitem/cashless.jpg?_ex=128x128'}]},\n",
       " {'Item.affiliateRate': '4.0',\n",
       "  'Item.catchcopy': '【送料無料】マスク 不織布マスク カラーマスク やわらかマスク 血色マスク 在庫あり 3層構造 耳が痛くなりにくい ファッションマスク 使い捨てマスク 女性 女性用 男性用',\n",
       "  'Item.shopName': 'GARAGE COLLECTION',\n",
       "  'Item.itemUrl': 'https://item.rakuten.co.jp/weiwei/bwm8yp/',\n",
       "  'Item.mediumImageUrls': [{'imageUrl': 'https://thumbnail.image.rakuten.co.jp/@0_mall/weiwei/cabinet/shouhin-image03/bwm8yp.jpg?_ex=128x128'},\n",
       "   {'imageUrl': 'https://thumbnail.image.rakuten.co.jp/@0_mall/weiwei/cabinet/ranking/rank_bwm8_12.jpg?_ex=128x128'},\n",
       "   {'imageUrl': 'https://thumbnail.image.rakuten.co.jp/@0_mall/weiwei/cabinet/shouhin-image2/bwmc/bwm8-a1.jpg?_ex=128x128'}]},\n",
       " {'Item.affiliateRate': '4.0',\n",
       "  'Item.catchcopy': '【不定期開催／数量限定】【賞味期限お届け後10日前後商品あり】何が届くかお楽しみ！毎日の食卓にもう一品を。',\n",
       "  'Item.shopName': 'カネ吉オンライン\\u3000楽天市場店',\n",
       "  'Item.itemUrl': 'https://item.rakuten.co.jp/kanekichionline/ol_90000999/',\n",
       "  'Item.mediumImageUrls': [{'imageUrl': 'https://thumbnail.image.rakuten.co.jp/@0_mall/kanekichionline/cabinet/mem_item/1bn241.jpg?_ex=128x128'}]},\n",
       " {'Item.affiliateRate': '2.0',\n",
       "  'Item.catchcopy': '【楽天ブックスならいつでも送料無料】',\n",
       "  'Item.shopName': '楽天ブックス',\n",
       "  'Item.itemUrl': 'https://item.rakuten.co.jp/book/16855974/',\n",
       "  'Item.mediumImageUrls': [{'imageUrl': 'https://thumbnail.image.rakuten.co.jp/@0_mall/book/cabinet/8983/4902370548983_1_2.jpg?_ex=128x128'},\n",
       "   {'imageUrl': 'https://thumbnail.image.rakuten.co.jp/@0_mall/book/cabinet/8983/4902370548983_2.jpg?_ex=128x128'},\n",
       "   {'imageUrl': 'https://thumbnail.image.rakuten.co.jp/@0_mall/book/cabinet/8983/4902370548983_3.jpg?_ex=128x128'}]},\n",
       " {'Item.affiliateRate': '4.0',\n",
       "  'Item.catchcopy': '楽天総合ランキング1位 二十五雑穀米 雑穀米 国産 送料無料 くまモン パッケージ 発芽玄米 アマランサス 大麦 もち麦 使用 くまもと風土',\n",
       "  'Item.shopName': '【\\u3000くまもと風土\\u3000】',\n",
       "  'Item.itemUrl': 'https://item.rakuten.co.jp/kumamoto-food/10002270/',\n",
       "  'Item.mediumImageUrls': [{'imageUrl': 'https://thumbnail.image.rakuten.co.jp/@0_mall/kumamoto-food/cabinet/00954548/zakkoku/25zak/9mar_25zak001_01.jpg?_ex=128x128'},\n",
       "   {'imageUrl': 'https://thumbnail.image.rakuten.co.jp/@0_mall/kumamoto-food/cabinet/00954548/zakkoku/25zak/2111mar_pts_02_01.gif?_ex=128x128'},\n",
       "   {'imageUrl': 'https://thumbnail.image.rakuten.co.jp/@0_mall/kumamoto-food/cabinet/00954548/zakkoku/25zak/21zak_pts11.jpg?_ex=128x128'}]},\n",
       " {'Item.affiliateRate': '4.0',\n",
       "  'Item.catchcopy': '【送料無料】息がしやすい 顔にフィットする3D立体デザインの 不織布マスク 血色マスク 血色カラー 女性 女性用 マスク オシャレ マスク',\n",
       "  'Item.shopName': 'GARAGE COLLECTION',\n",
       "  'Item.itemUrl': 'https://item.rakuten.co.jp/weiwei/bwm94xx/',\n",
       "  'Item.mediumImageUrls': [{'imageUrl': 'https://thumbnail.image.rakuten.co.jp/@0_mall/weiwei/cabinet/shouhin-image03/bwm94-03.jpg?_ex=128x128'},\n",
       "   {'imageUrl': 'https://thumbnail.image.rakuten.co.jp/@0_mall/weiwei/cabinet/shouhin-image2/bwmc/bwm94-a1.jpg?_ex=128x128'},\n",
       "   {'imageUrl': 'https://thumbnail.image.rakuten.co.jp/@0_mall/weiwei/cabinet/shouhin-image2/bwmc/bwm94-b1.jpg?_ex=128x128'}]},\n",
       " {'Item.affiliateRate': '2.0',\n",
       "  'Item.catchcopy': '空気清浄機 シャープ プラズマクラスター 加湿器\\u3000コンパクト 花粉\\u3000ウイルス\\u3000カビ\\u3000対策\\u3000除菌\\u3000消臭\\u3000除電',\n",
       "  'Item.shopName': '楽天スーパーDEALSHOP',\n",
       "  'Item.itemUrl': 'https://item.rakuten.co.jp/superdeal/10077ki-js40w191214/',\n",
       "  'Item.mediumImageUrls': [{'imageUrl': 'https://thumbnail.image.rakuten.co.jp/@0_gold/superdeal/01_img/lp/10077ki-js40w191214/thumb/kl-js40w_thumb01.jpg?_ex=128x128'},\n",
       "   {'imageUrl': 'https://thumbnail.image.rakuten.co.jp/@0_mall/superdeal/cabinet/10077ki-js40w191214/kl-js40w_thumb02zz.jpg?_ex=128x128'},\n",
       "   {'imageUrl': 'https://thumbnail.image.rakuten.co.jp/@0_gold/superdeal/01_img/lp/10077ki-js40w191214/kl-js40w_01.jpg?_ex=128x128'}]},\n",
       " {'Item.affiliateRate': '5.0',\n",
       "  'Item.catchcopy': '息がしやすい口紅が付きにくい 呼吸しやすいクリーンマスク 密着 送料無料',\n",
       "  'Item.shopName': 'cicibella sports',\n",
       "  'Item.itemUrl': 'https://item.rakuten.co.jp/cicibella-sports/mskkf20/',\n",
       "  'Item.mediumImageUrls': [{'imageUrl': 'https://thumbnail.image.rakuten.co.jp/@0_mall/cicibella-sports/cabinet/08458136/08458137/20.jpg?_ex=128x128'},\n",
       "   {'imageUrl': 'https://thumbnail.image.rakuten.co.jp/@0_mall/cicibella-sports/cabinet/08386405/1.jpg?_ex=128x128'},\n",
       "   {'imageUrl': 'https://thumbnail.image.rakuten.co.jp/@0_mall/cicibella-sports/cabinet/08386405/3.jpg?_ex=128x128'}]},\n",
       " {'Item.affiliateRate': '4.0',\n",
       "  'Item.catchcopy': 'クリーン館は使用期限1年以上をお届け！代引手数料無料♪',\n",
       "  'Item.shopName': 'コンタクトクリーン館',\n",
       "  'Item.itemUrl': 'https://item.rakuten.co.jp/contact-clean/10000110-4/',\n",
       "  'Item.mediumImageUrls': [{'imageUrl': 'https://thumbnail.image.rakuten.co.jp/@0_mall/contact-clean/cabinet/sale/sale_ao_6n.jpg?_ex=128x128'},\n",
       "   {'imageUrl': 'https://thumbnail.image.rakuten.co.jp/@0_mall/contact-clean/cabinet/rankingyearly_emb.jpg?_ex=128x128'}]},\n",
       " {'Item.affiliateRate': '4.0',\n",
       "  'Item.catchcopy': 'さりげなく『うるみ目』新色 ヘイリー/ビアンカ 登場2018楽天年間ランキング総合2位受賞ReVIA レヴィア ワンデー カラコン 1day キャンマジ公式 UVカット 1日使い捨て ローラ',\n",
       "  'Item.shopName': 'キャンディーマジック\\u3000楽天市場店',\n",
       "  'Item.itemUrl': 'https://item.rakuten.co.jp/candymagic/rv-100/',\n",
       "  'Item.mediumImageUrls': [{'imageUrl': 'https://thumbnail.image.rakuten.co.jp/@0_mall/candymagic/cabinet/revia/i_rv1d_co_3s_02.jpg?_ex=128x128'},\n",
       "   {'imageUrl': 'https://thumbnail.image.rakuten.co.jp/@0_mall/candymagic/cabinet/revia/thumb_rv1d_02.jpg?_ex=128x128'},\n",
       "   {'imageUrl': 'https://thumbnail.image.rakuten.co.jp/@0_mall/candymagic/cabinet/revia/t_rv1d_co_02.jpg?_ex=128x128'}]},\n",
       " {'Item.affiliateRate': '4.0',\n",
       "  'Item.catchcopy': 'チョコレート 訳あり スイーツ 割れチョコ 送料無料 チョコレート 訳あり チョコ チョコ 割れチョコ 割れチョコレート 【西内花月堂】',\n",
       "  'Item.shopName': '西内花月堂\\u3000楽天市場店',\n",
       "  'Item.itemUrl': 'https://item.rakuten.co.jp/nishiuchikagetsudo/honki-mode455/',\n",
       "  'Item.mediumImageUrls': [{'imageUrl': 'https://thumbnail.image.rakuten.co.jp/@0_mall/nishiuchikagetsudo/cabinet/wchoco/35c/35choco-img1.jpg?_ex=128x128'},\n",
       "   {'imageUrl': 'https://thumbnail.image.rakuten.co.jp/@0_mall/nishiuchikagetsudo/cabinet/wchoco/35c/35choco-img2.jpg?_ex=128x128'},\n",
       "   {'imageUrl': 'https://thumbnail.image.rakuten.co.jp/@0_mall/nishiuchikagetsudo/cabinet/wchoco/35c/35choco-img3.jpg?_ex=128x128'}]},\n",
       " {'Item.affiliateRate': '4.0',\n",
       "  'Item.catchcopy': '★2017年楽天ショップオブザイヤージャンル大賞受賞店舗★',\n",
       "  'Item.shopName': 'レンズファクトリー',\n",
       "  'Item.itemUrl': 'https://item.rakuten.co.jp/lensfactory/m1p90-02/',\n",
       "  'Item.mediumImageUrls': [{'imageUrl': 'https://thumbnail.image.rakuten.co.jp/@0_gold/lensfactory/img/item/1day/m1p/m1p90-02.jpg?_ex=128x128'},\n",
       "   {'imageUrl': 'https://thumbnail.image.rakuten.co.jp/@0_gold/lensfactory/gazou/dosuutouroku/kakunin001.jpg?_ex=128x128'},\n",
       "   {'imageUrl': 'https://thumbnail.image.rakuten.co.jp/@0_gold/lensfactory/gazou/spec/m1p/m1p_90_2.gif?_ex=128x128'}]},\n",
       " {'Item.affiliateRate': '5.0',\n",
       "  'Item.catchcopy': '2020楽天年間ランキング＆グルメ大賞受賞！',\n",
       "  'Item.shopName': 'タマチャンショップ',\n",
       "  'Item.itemUrl': 'https://item.rakuten.co.jp/kyunan/20grain/',\n",
       "  'Item.mediumImageUrls': [{'imageUrl': 'https://thumbnail.image.rakuten.co.jp/@0_mall/kyunan/cabinet/zakkokuspecial/sannjyukokumai/imgrc0079752916.jpg?_ex=128x128'},\n",
       "   {'imageUrl': 'https://thumbnail.image.rakuten.co.jp/@0_mall/kyunan/cabinet/zakkokuspecial/no1-zakkoku.jpg?_ex=128x128'},\n",
       "   {'imageUrl': 'https://thumbnail.image.rakuten.co.jp/@0_mall/kyunan/cabinet/zakkokuspecial/sannjyukokumai/imgrc0089634100.jpg?_ex=128x128'}]},\n",
       " {'Item.affiliateRate': '5.0',\n",
       "  'Item.catchcopy': 'マスク 不織布マスク カラーマスク やわらかマスク 血色マスク',\n",
       "  'Item.shopName': 'CICI BELLA',\n",
       "  'Item.itemUrl': 'https://item.rakuten.co.jp/cicib/msk50-1/',\n",
       "  'Item.mediumImageUrls': [{'imageUrl': 'https://thumbnail.image.rakuten.co.jp/@0_mall/cicib/cabinet/08582546/msk50-1.jpg?_ex=128x128'},\n",
       "   {'imageUrl': 'https://thumbnail.image.rakuten.co.jp/@0_mall/cicib/cabinet/08336988/1-1.jpg?_ex=128x128'},\n",
       "   {'imageUrl': 'https://thumbnail.image.rakuten.co.jp/@0_mall/cicib/cabinet/08336988/2-1.jpg?_ex=128x128'}]},\n",
       " {'Item.affiliateRate': '4.0',\n",
       "  'Item.catchcopy': '★ショップ・オブ・ジ・エリア2016受賞！★',\n",
       "  'Item.shopName': 'レンズアミーゴ\\u3000楽天市場店',\n",
       "  'Item.itemUrl': 'https://item.rakuten.co.jp/lensamigo/1davte90-02p/',\n",
       "  'Item.mediumImageUrls': [{'imageUrl': 'https://thumbnail.image.rakuten.co.jp/@0_mall/lensamigo/cabinet/johnson/1davte90-02p.jpg?_ex=128x128'}]},\n",
       " {'Item.affiliateRate': '4.0',\n",
       "  'Item.catchcopy': '《累計販売本数1億突破》 新ボタニスト ボタニスト史上最高の指通り 髪と地肌により優しく',\n",
       "  'Item.shopName': 'アンド ハビット',\n",
       "  'Item.itemUrl': 'https://item.rakuten.co.jp/kobe-beauty-labo/bota-refill-01/',\n",
       "  'Item.mediumImageUrls': [{'imageUrl': 'https://thumbnail.image.rakuten.co.jp/@0_mall/kobe-beauty-labo/cabinet/04278206/bota-refill/pouch.jpg?_ex=128x128'},\n",
       "   {'imageUrl': 'https://thumbnail.image.rakuten.co.jp/@0_mall/kobe-beauty-labo/cabinet/imgrc0077023117.jpg?_ex=128x128'},\n",
       "   {'imageUrl': 'https://thumbnail.image.rakuten.co.jp/@0_mall/kobe-beauty-labo/cabinet/04278206/08082448/thumb_02.jpg?_ex=128x128'}]}]"
      ]
     },
     "execution_count": 126,
     "metadata": {},
     "output_type": "execute_result"
    }
   ],
   "source": [
    "df.to_dict(orient='records')"
   ]
  },
  {
   "cell_type": "code",
   "execution_count": 97,
   "id": "664406c6-8f29-4d18-8859-3c696e4f8562",
   "metadata": {
    "tags": []
   },
   "outputs": [],
   "source": [
    "item_info = result['Items']"
   ]
  },
  {
   "cell_type": "code",
   "execution_count": 98,
   "id": "506a1c5c-40e0-4402-a7c8-02951df03dbb",
   "metadata": {},
   "outputs": [
    {
     "ename": "ValueError",
     "evalue": "Invalid file path or buffer object type: <class 'dict'>",
     "output_type": "error",
     "traceback": [
      "\u001b[0;31m---------------------------------------------------------------------------\u001b[0m",
      "\u001b[0;31mValueError\u001b[0m                                Traceback (most recent call last)",
      "\u001b[0;32m/var/folders/2q/057bcdd50_7crhj15nb97dqh0000gn/T/ipykernel_35204/3565998326.py\u001b[0m in \u001b[0;36m<module>\u001b[0;34m\u001b[0m\n\u001b[0;32m----> 1\u001b[0;31m \u001b[0mpd\u001b[0m\u001b[0;34m.\u001b[0m\u001b[0mread_json\u001b[0m\u001b[0;34m(\u001b[0m\u001b[0mresult\u001b[0m\u001b[0;34m)\u001b[0m\u001b[0;34m\u001b[0m\u001b[0;34m\u001b[0m\u001b[0m\n\u001b[0m",
      "\u001b[0;32m~/.pyenv/versions/3.9.7/lib/python3.9/site-packages/pandas/util/_decorators.py\u001b[0m in \u001b[0;36mwrapper\u001b[0;34m(*args, **kwargs)\u001b[0m\n\u001b[1;32m    205\u001b[0m                 \u001b[0;32melse\u001b[0m\u001b[0;34m:\u001b[0m\u001b[0;34m\u001b[0m\u001b[0;34m\u001b[0m\u001b[0m\n\u001b[1;32m    206\u001b[0m                     \u001b[0mkwargs\u001b[0m\u001b[0;34m[\u001b[0m\u001b[0mnew_arg_name\u001b[0m\u001b[0;34m]\u001b[0m \u001b[0;34m=\u001b[0m \u001b[0mnew_arg_value\u001b[0m\u001b[0;34m\u001b[0m\u001b[0;34m\u001b[0m\u001b[0m\n\u001b[0;32m--> 207\u001b[0;31m             \u001b[0;32mreturn\u001b[0m \u001b[0mfunc\u001b[0m\u001b[0;34m(\u001b[0m\u001b[0;34m*\u001b[0m\u001b[0margs\u001b[0m\u001b[0;34m,\u001b[0m \u001b[0;34m**\u001b[0m\u001b[0mkwargs\u001b[0m\u001b[0;34m)\u001b[0m\u001b[0;34m\u001b[0m\u001b[0;34m\u001b[0m\u001b[0m\n\u001b[0m\u001b[1;32m    208\u001b[0m \u001b[0;34m\u001b[0m\u001b[0m\n\u001b[1;32m    209\u001b[0m         \u001b[0;32mreturn\u001b[0m \u001b[0mcast\u001b[0m\u001b[0;34m(\u001b[0m\u001b[0mF\u001b[0m\u001b[0;34m,\u001b[0m \u001b[0mwrapper\u001b[0m\u001b[0;34m)\u001b[0m\u001b[0;34m\u001b[0m\u001b[0;34m\u001b[0m\u001b[0m\n",
      "\u001b[0;32m~/.pyenv/versions/3.9.7/lib/python3.9/site-packages/pandas/util/_decorators.py\u001b[0m in \u001b[0;36mwrapper\u001b[0;34m(*args, **kwargs)\u001b[0m\n\u001b[1;32m    309\u001b[0m                     \u001b[0mstacklevel\u001b[0m\u001b[0;34m=\u001b[0m\u001b[0mstacklevel\u001b[0m\u001b[0;34m,\u001b[0m\u001b[0;34m\u001b[0m\u001b[0;34m\u001b[0m\u001b[0m\n\u001b[1;32m    310\u001b[0m                 )\n\u001b[0;32m--> 311\u001b[0;31m             \u001b[0;32mreturn\u001b[0m \u001b[0mfunc\u001b[0m\u001b[0;34m(\u001b[0m\u001b[0;34m*\u001b[0m\u001b[0margs\u001b[0m\u001b[0;34m,\u001b[0m \u001b[0;34m**\u001b[0m\u001b[0mkwargs\u001b[0m\u001b[0;34m)\u001b[0m\u001b[0;34m\u001b[0m\u001b[0;34m\u001b[0m\u001b[0m\n\u001b[0m\u001b[1;32m    312\u001b[0m \u001b[0;34m\u001b[0m\u001b[0m\n\u001b[1;32m    313\u001b[0m         \u001b[0;32mreturn\u001b[0m \u001b[0mwrapper\u001b[0m\u001b[0;34m\u001b[0m\u001b[0;34m\u001b[0m\u001b[0m\n",
      "\u001b[0;32m~/.pyenv/versions/3.9.7/lib/python3.9/site-packages/pandas/io/json/_json.py\u001b[0m in \u001b[0;36mread_json\u001b[0;34m(path_or_buf, orient, typ, dtype, convert_axes, convert_dates, keep_default_dates, numpy, precise_float, date_unit, encoding, encoding_errors, lines, chunksize, compression, nrows, storage_options)\u001b[0m\n\u001b[1;32m    588\u001b[0m         \u001b[0mconvert_axes\u001b[0m \u001b[0;34m=\u001b[0m \u001b[0;32mTrue\u001b[0m\u001b[0;34m\u001b[0m\u001b[0;34m\u001b[0m\u001b[0m\n\u001b[1;32m    589\u001b[0m \u001b[0;34m\u001b[0m\u001b[0m\n\u001b[0;32m--> 590\u001b[0;31m     json_reader = JsonReader(\n\u001b[0m\u001b[1;32m    591\u001b[0m         \u001b[0mpath_or_buf\u001b[0m\u001b[0;34m,\u001b[0m\u001b[0;34m\u001b[0m\u001b[0;34m\u001b[0m\u001b[0m\n\u001b[1;32m    592\u001b[0m         \u001b[0morient\u001b[0m\u001b[0;34m=\u001b[0m\u001b[0morient\u001b[0m\u001b[0;34m,\u001b[0m\u001b[0;34m\u001b[0m\u001b[0;34m\u001b[0m\u001b[0m\n",
      "\u001b[0;32m~/.pyenv/versions/3.9.7/lib/python3.9/site-packages/pandas/io/json/_json.py\u001b[0m in \u001b[0;36m__init__\u001b[0;34m(self, filepath_or_buffer, orient, typ, dtype, convert_axes, convert_dates, keep_default_dates, numpy, precise_float, date_unit, encoding, lines, chunksize, compression, nrows, storage_options, encoding_errors)\u001b[0m\n\u001b[1;32m    673\u001b[0m                 \u001b[0;32mraise\u001b[0m \u001b[0mValueError\u001b[0m\u001b[0;34m(\u001b[0m\u001b[0;34m\"nrows can only be passed if lines=True\"\u001b[0m\u001b[0;34m)\u001b[0m\u001b[0;34m\u001b[0m\u001b[0;34m\u001b[0m\u001b[0m\n\u001b[1;32m    674\u001b[0m \u001b[0;34m\u001b[0m\u001b[0m\n\u001b[0;32m--> 675\u001b[0;31m         \u001b[0mdata\u001b[0m \u001b[0;34m=\u001b[0m \u001b[0mself\u001b[0m\u001b[0;34m.\u001b[0m\u001b[0m_get_data_from_filepath\u001b[0m\u001b[0;34m(\u001b[0m\u001b[0mfilepath_or_buffer\u001b[0m\u001b[0;34m)\u001b[0m\u001b[0;34m\u001b[0m\u001b[0;34m\u001b[0m\u001b[0m\n\u001b[0m\u001b[1;32m    676\u001b[0m         \u001b[0mself\u001b[0m\u001b[0;34m.\u001b[0m\u001b[0mdata\u001b[0m \u001b[0;34m=\u001b[0m \u001b[0mself\u001b[0m\u001b[0;34m.\u001b[0m\u001b[0m_preprocess_data\u001b[0m\u001b[0;34m(\u001b[0m\u001b[0mdata\u001b[0m\u001b[0;34m)\u001b[0m\u001b[0;34m\u001b[0m\u001b[0;34m\u001b[0m\u001b[0m\n\u001b[1;32m    677\u001b[0m \u001b[0;34m\u001b[0m\u001b[0m\n",
      "\u001b[0;32m~/.pyenv/versions/3.9.7/lib/python3.9/site-packages/pandas/io/json/_json.py\u001b[0m in \u001b[0;36m_get_data_from_filepath\u001b[0;34m(self, filepath_or_buffer)\u001b[0m\n\u001b[1;32m    710\u001b[0m             \u001b[0;32mor\u001b[0m \u001b[0mfile_exists\u001b[0m\u001b[0;34m(\u001b[0m\u001b[0mfilepath_or_buffer\u001b[0m\u001b[0;34m)\u001b[0m\u001b[0;34m\u001b[0m\u001b[0;34m\u001b[0m\u001b[0m\n\u001b[1;32m    711\u001b[0m         ):\n\u001b[0;32m--> 712\u001b[0;31m             self.handles = get_handle(\n\u001b[0m\u001b[1;32m    713\u001b[0m                 \u001b[0mfilepath_or_buffer\u001b[0m\u001b[0;34m,\u001b[0m\u001b[0;34m\u001b[0m\u001b[0;34m\u001b[0m\u001b[0m\n\u001b[1;32m    714\u001b[0m                 \u001b[0;34m\"r\"\u001b[0m\u001b[0;34m,\u001b[0m\u001b[0;34m\u001b[0m\u001b[0;34m\u001b[0m\u001b[0m\n",
      "\u001b[0;32m~/.pyenv/versions/3.9.7/lib/python3.9/site-packages/pandas/io/common.py\u001b[0m in \u001b[0;36mget_handle\u001b[0;34m(path_or_buf, mode, encoding, compression, memory_map, is_text, errors, storage_options)\u001b[0m\n\u001b[1;32m    607\u001b[0m \u001b[0;34m\u001b[0m\u001b[0m\n\u001b[1;32m    608\u001b[0m     \u001b[0;31m# open URLs\u001b[0m\u001b[0;34m\u001b[0m\u001b[0;34m\u001b[0m\u001b[0m\n\u001b[0;32m--> 609\u001b[0;31m     ioargs = _get_filepath_or_buffer(\n\u001b[0m\u001b[1;32m    610\u001b[0m         \u001b[0mpath_or_buf\u001b[0m\u001b[0;34m,\u001b[0m\u001b[0;34m\u001b[0m\u001b[0;34m\u001b[0m\u001b[0m\n\u001b[1;32m    611\u001b[0m         \u001b[0mencoding\u001b[0m\u001b[0;34m=\u001b[0m\u001b[0mencoding\u001b[0m\u001b[0;34m,\u001b[0m\u001b[0;34m\u001b[0m\u001b[0;34m\u001b[0m\u001b[0m\n",
      "\u001b[0;32m~/.pyenv/versions/3.9.7/lib/python3.9/site-packages/pandas/io/common.py\u001b[0m in \u001b[0;36m_get_filepath_or_buffer\u001b[0;34m(filepath_or_buffer, encoding, compression, mode, storage_options)\u001b[0m\n\u001b[1;32m    394\u001b[0m     \u001b[0;32mif\u001b[0m \u001b[0;32mnot\u001b[0m \u001b[0mis_file_like\u001b[0m\u001b[0;34m(\u001b[0m\u001b[0mfilepath_or_buffer\u001b[0m\u001b[0;34m)\u001b[0m\u001b[0;34m:\u001b[0m\u001b[0;34m\u001b[0m\u001b[0;34m\u001b[0m\u001b[0m\n\u001b[1;32m    395\u001b[0m         \u001b[0mmsg\u001b[0m \u001b[0;34m=\u001b[0m \u001b[0;34mf\"Invalid file path or buffer object type: {type(filepath_or_buffer)}\"\u001b[0m\u001b[0;34m\u001b[0m\u001b[0;34m\u001b[0m\u001b[0m\n\u001b[0;32m--> 396\u001b[0;31m         \u001b[0;32mraise\u001b[0m \u001b[0mValueError\u001b[0m\u001b[0;34m(\u001b[0m\u001b[0mmsg\u001b[0m\u001b[0;34m)\u001b[0m\u001b[0;34m\u001b[0m\u001b[0;34m\u001b[0m\u001b[0m\n\u001b[0m\u001b[1;32m    397\u001b[0m \u001b[0;34m\u001b[0m\u001b[0m\n\u001b[1;32m    398\u001b[0m     return IOArgs(\n",
      "\u001b[0;31mValueError\u001b[0m: Invalid file path or buffer object type: <class 'dict'>"
     ]
    }
   ],
   "source": [
    "pd.read_json(result)"
   ]
  },
  {
   "cell_type": "code",
   "execution_count": null,
   "id": "0e3fbb18-e9c2-4a46-a2cf-1ef82a62ed0f",
   "metadata": {},
   "outputs": [],
   "source": []
  }
 ],
 "metadata": {
  "kernelspec": {
   "display_name": "Python 3 (ipykernel)",
   "language": "python",
   "name": "python3"
  },
  "language_info": {
   "codemirror_mode": {
    "name": "ipython",
    "version": 3
   },
   "file_extension": ".py",
   "mimetype": "text/x-python",
   "name": "python",
   "nbconvert_exporter": "python",
   "pygments_lexer": "ipython3",
   "version": "3.9.7"
  }
 },
 "nbformat": 4,
 "nbformat_minor": 5
}
